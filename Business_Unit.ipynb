{
 "cells": [
  {
   "cell_type": "code",
   "execution_count": null,
   "metadata": {},
   "outputs": [],
   "source": [
    "# Which business unit was the top spender so far in 2017? "
   ]
  },
  {
   "cell_type": "code",
   "execution_count": 1,
   "metadata": {},
   "outputs": [],
   "source": [
    "# Import pandas library\n",
    "import pandas as pd "
   ]
  },
  {
   "cell_type": "code",
   "execution_count": 2,
   "metadata": {},
   "outputs": [],
   "source": [
    "# Load primary dataset \n",
    "data2017 = pd.read_csv('2017pcard_data (1).csv')"
   ]
  },
  {
   "cell_type": "code",
   "execution_count": 3,
   "metadata": {},
   "outputs": [
    {
     "data": {
      "text/html": [
       "<div>\n",
       "<style scoped>\n",
       "    .dataframe tbody tr th:only-of-type {\n",
       "        vertical-align: middle;\n",
       "    }\n",
       "\n",
       "    .dataframe tbody tr th {\n",
       "        vertical-align: top;\n",
       "    }\n",
       "\n",
       "    .dataframe thead th {\n",
       "        text-align: right;\n",
       "    }\n",
       "</style>\n",
       "<table border=\"1\" class=\"dataframe\">\n",
       "  <thead>\n",
       "    <tr style=\"text-align: right;\">\n",
       "      <th></th>\n",
       "      <th>transactionid</th>\n",
       "      <th>amount</th>\n",
       "      <th>transactiondate</th>\n",
       "      <th>vendor</th>\n",
       "      <th>merchantcode</th>\n",
       "      <th>bu</th>\n",
       "      <th>account</th>\n",
       "      <th>ExpenseType</th>\n",
       "      <th>costcenter</th>\n",
       "    </tr>\n",
       "  </thead>\n",
       "  <tbody>\n",
       "    <tr>\n",
       "      <th>0</th>\n",
       "      <td>17pcp8865</td>\n",
       "      <td>18.929075</td>\n",
       "      <td>7/10/2017</td>\n",
       "      <td>76</td>\n",
       "      <td>15100</td>\n",
       "      <td>100</td>\n",
       "      <td>8740</td>\n",
       "      <td>Building Suppliles</td>\n",
       "      <td>Corporate IT</td>\n",
       "    </tr>\n",
       "    <tr>\n",
       "      <th>1</th>\n",
       "      <td>17pcp17762</td>\n",
       "      <td>53.014500</td>\n",
       "      <td>6/11/2017</td>\n",
       "      <td>76</td>\n",
       "      <td>15100</td>\n",
       "      <td>100</td>\n",
       "      <td>8740</td>\n",
       "      <td>Building Suppliles</td>\n",
       "      <td>Corporate IT</td>\n",
       "    </tr>\n",
       "    <tr>\n",
       "      <th>2</th>\n",
       "      <td>17pcp154402</td>\n",
       "      <td>70.662625</td>\n",
       "      <td>7/29/2017</td>\n",
       "      <td>76</td>\n",
       "      <td>15100</td>\n",
       "      <td>100</td>\n",
       "      <td>8416</td>\n",
       "      <td>Car Rental</td>\n",
       "      <td>Corporate IT</td>\n",
       "    </tr>\n",
       "    <tr>\n",
       "      <th>3</th>\n",
       "      <td>17pcp155646</td>\n",
       "      <td>24.557775</td>\n",
       "      <td>5/27/2017</td>\n",
       "      <td>76</td>\n",
       "      <td>15100</td>\n",
       "      <td>100</td>\n",
       "      <td>8416</td>\n",
       "      <td>Car Rental</td>\n",
       "      <td>Corporate IT</td>\n",
       "    </tr>\n",
       "    <tr>\n",
       "      <th>4</th>\n",
       "      <td>17pcp146243</td>\n",
       "      <td>46.717275</td>\n",
       "      <td>3/21/2017</td>\n",
       "      <td>76</td>\n",
       "      <td>15100</td>\n",
       "      <td>200</td>\n",
       "      <td>8416</td>\n",
       "      <td>Car Rental</td>\n",
       "      <td>Corporate IT</td>\n",
       "    </tr>\n",
       "    <tr>\n",
       "      <th>5</th>\n",
       "      <td>17pcp152407</td>\n",
       "      <td>21.037500</td>\n",
       "      <td>2/28/2017</td>\n",
       "      <td>76</td>\n",
       "      <td>15100</td>\n",
       "      <td>110</td>\n",
       "      <td>8416</td>\n",
       "      <td>Car Rental</td>\n",
       "      <td>Corporate IT</td>\n",
       "    </tr>\n",
       "    <tr>\n",
       "      <th>6</th>\n",
       "      <td>17pcp18692</td>\n",
       "      <td>2.234650</td>\n",
       "      <td>2/24/2017</td>\n",
       "      <td>76</td>\n",
       "      <td>15100</td>\n",
       "      <td>110</td>\n",
       "      <td>8416</td>\n",
       "      <td>Car Rental</td>\n",
       "      <td>Corporate IT</td>\n",
       "    </tr>\n",
       "    <tr>\n",
       "      <th>7</th>\n",
       "      <td>17pcp174097</td>\n",
       "      <td>3.812930</td>\n",
       "      <td>1/31/2017</td>\n",
       "      <td>76</td>\n",
       "      <td>15100</td>\n",
       "      <td>110</td>\n",
       "      <td>8416</td>\n",
       "      <td>Car Rental</td>\n",
       "      <td>Corporate IT</td>\n",
       "    </tr>\n",
       "    <tr>\n",
       "      <th>8</th>\n",
       "      <td>17pcp179969</td>\n",
       "      <td>27.173437</td>\n",
       "      <td>1/7/2017</td>\n",
       "      <td>76</td>\n",
       "      <td>15100</td>\n",
       "      <td>100</td>\n",
       "      <td>8416</td>\n",
       "      <td>Car Rental</td>\n",
       "      <td>Corporate IT</td>\n",
       "    </tr>\n",
       "    <tr>\n",
       "      <th>9</th>\n",
       "      <td>17pcp173014</td>\n",
       "      <td>10.227030</td>\n",
       "      <td>1/3/2017</td>\n",
       "      <td>76</td>\n",
       "      <td>15100</td>\n",
       "      <td>100</td>\n",
       "      <td>8416</td>\n",
       "      <td>Car Rental</td>\n",
       "      <td>Corporate IT</td>\n",
       "    </tr>\n",
       "  </tbody>\n",
       "</table>\n",
       "</div>"
      ],
      "text/plain": [
       "  transactionid     amount transactiondate vendor  merchantcode   bu  account  \\\n",
       "0     17pcp8865  18.929075       7/10/2017     76         15100  100     8740   \n",
       "1    17pcp17762  53.014500       6/11/2017     76         15100  100     8740   \n",
       "2   17pcp154402  70.662625       7/29/2017     76         15100  100     8416   \n",
       "3   17pcp155646  24.557775       5/27/2017     76         15100  100     8416   \n",
       "4   17pcp146243  46.717275       3/21/2017     76         15100  200     8416   \n",
       "5   17pcp152407  21.037500       2/28/2017     76         15100  110     8416   \n",
       "6    17pcp18692   2.234650       2/24/2017     76         15100  110     8416   \n",
       "7   17pcp174097   3.812930       1/31/2017     76         15100  110     8416   \n",
       "8   17pcp179969  27.173437        1/7/2017     76         15100  100     8416   \n",
       "9   17pcp173014  10.227030        1/3/2017     76         15100  100     8416   \n",
       "\n",
       "          ExpenseType    costcenter  \n",
       "0  Building Suppliles  Corporate IT  \n",
       "1  Building Suppliles  Corporate IT  \n",
       "2          Car Rental  Corporate IT  \n",
       "3          Car Rental  Corporate IT  \n",
       "4          Car Rental  Corporate IT  \n",
       "5          Car Rental  Corporate IT  \n",
       "6          Car Rental  Corporate IT  \n",
       "7          Car Rental  Corporate IT  \n",
       "8          Car Rental  Corporate IT  \n",
       "9          Car Rental  Corporate IT  "
      ]
     },
     "execution_count": 3,
     "metadata": {},
     "output_type": "execute_result"
    }
   ],
   "source": [
    "data2017[:10]"
   ]
  },
  {
   "cell_type": "code",
   "execution_count": 5,
   "metadata": {},
   "outputs": [
    {
     "data": {
      "text/plain": [
       "100    124883\n",
       "110     52646\n",
       "200      9002\n",
       "120      3327\n",
       "Name: bu, dtype: int64"
      ]
     },
     "execution_count": 5,
     "metadata": {},
     "output_type": "execute_result"
    }
   ],
   "source": [
    "business_unit = data2017['bu']\n",
    "business_unit.value_counts()"
   ]
  },
  {
   "cell_type": "code",
   "execution_count": 6,
   "metadata": {},
   "outputs": [
    {
     "data": {
      "text/html": [
       "<div>\n",
       "<style scoped>\n",
       "    .dataframe tbody tr th:only-of-type {\n",
       "        vertical-align: middle;\n",
       "    }\n",
       "\n",
       "    .dataframe tbody tr th {\n",
       "        vertical-align: top;\n",
       "    }\n",
       "\n",
       "    .dataframe thead th {\n",
       "        text-align: right;\n",
       "    }\n",
       "</style>\n",
       "<table border=\"1\" class=\"dataframe\">\n",
       "  <thead>\n",
       "    <tr style=\"text-align: right;\">\n",
       "      <th></th>\n",
       "      <th>bu</th>\n",
       "      <th>amount</th>\n",
       "    </tr>\n",
       "  </thead>\n",
       "  <tbody>\n",
       "    <tr>\n",
       "      <th>0</th>\n",
       "      <td>100</td>\n",
       "      <td>18.929075</td>\n",
       "    </tr>\n",
       "    <tr>\n",
       "      <th>1</th>\n",
       "      <td>100</td>\n",
       "      <td>53.014500</td>\n",
       "    </tr>\n",
       "    <tr>\n",
       "      <th>2</th>\n",
       "      <td>100</td>\n",
       "      <td>70.662625</td>\n",
       "    </tr>\n",
       "    <tr>\n",
       "      <th>3</th>\n",
       "      <td>100</td>\n",
       "      <td>24.557775</td>\n",
       "    </tr>\n",
       "    <tr>\n",
       "      <th>4</th>\n",
       "      <td>200</td>\n",
       "      <td>46.717275</td>\n",
       "    </tr>\n",
       "    <tr>\n",
       "      <th>5</th>\n",
       "      <td>110</td>\n",
       "      <td>21.037500</td>\n",
       "    </tr>\n",
       "    <tr>\n",
       "      <th>6</th>\n",
       "      <td>110</td>\n",
       "      <td>2.234650</td>\n",
       "    </tr>\n",
       "    <tr>\n",
       "      <th>7</th>\n",
       "      <td>110</td>\n",
       "      <td>3.812930</td>\n",
       "    </tr>\n",
       "    <tr>\n",
       "      <th>8</th>\n",
       "      <td>100</td>\n",
       "      <td>27.173437</td>\n",
       "    </tr>\n",
       "    <tr>\n",
       "      <th>9</th>\n",
       "      <td>100</td>\n",
       "      <td>10.227030</td>\n",
       "    </tr>\n",
       "  </tbody>\n",
       "</table>\n",
       "</div>"
      ],
      "text/plain": [
       "    bu     amount\n",
       "0  100  18.929075\n",
       "1  100  53.014500\n",
       "2  100  70.662625\n",
       "3  100  24.557775\n",
       "4  200  46.717275\n",
       "5  110  21.037500\n",
       "6  110   2.234650\n",
       "7  110   3.812930\n",
       "8  100  27.173437\n",
       "9  100  10.227030"
      ]
     },
     "execution_count": 6,
     "metadata": {},
     "output_type": "execute_result"
    }
   ],
   "source": [
    "business_unit_spending = data2017[['bu', 'amount']]\n",
    "business_unit_spending[:10]"
   ]
  },
  {
   "cell_type": "code",
   "execution_count": 8,
   "metadata": {},
   "outputs": [
    {
     "name": "stdout",
     "output_type": "stream",
     "text": [
      "23755442.44902329\n"
     ]
    }
   ],
   "source": [
    "Techtrades_HQ_Spending = business_unit_spending[business_unit_spending['bu'] == 100]\n",
    "Techtrades_HQ_Spending_amount = Techtrades_HQ_Spending['amount']\n",
    "print(Techtrades_HQ_Spending_amount.sum())"
   ]
  },
  {
   "cell_type": "code",
   "execution_count": 9,
   "metadata": {},
   "outputs": [
    {
     "name": "stdout",
     "output_type": "stream",
     "text": [
      "17545825.47180555\n"
     ]
    }
   ],
   "source": [
    "Techtrades_LTD_Spending = business_unit_spending[business_unit_spending['bu'] == 110]\n",
    "Techtrades_LTD_Spending_amount = Techtrades_LTD_Spending['amount']\n",
    "print(Techtrades_LTD_Spending_amount.sum())"
   ]
  },
  {
   "cell_type": "code",
   "execution_count": 10,
   "metadata": {},
   "outputs": [
    {
     "name": "stdout",
     "output_type": "stream",
     "text": [
      "4321178.084998\n"
     ]
    }
   ],
   "source": [
    "Techtrades_NK_Spending = business_unit_spending[business_unit_spending['bu'] == 120]\n",
    "Techtrades_NK_Spending_amount = Techtrades_NK_Spending['amount']\n",
    "print(Techtrades_NK_Spending_amount.sum())"
   ]
  },
  {
   "cell_type": "code",
   "execution_count": 11,
   "metadata": {},
   "outputs": [
    {
     "name": "stdout",
     "output_type": "stream",
     "text": [
      "2692525.5656557498\n"
     ]
    }
   ],
   "source": [
    "Zeus_Banking_Spending = business_unit_spending[business_unit_spending['bu'] == 200]\n",
    "Zeus_Banking_Spending_amount = Zeus_Banking_Spending['amount']\n",
    "print(Zeus_Banking_Spending_amount.sum())"
   ]
  }
 ],
 "metadata": {
  "kernelspec": {
   "display_name": "Python 3",
   "language": "python",
   "name": "python3"
  },
  "language_info": {
   "codemirror_mode": {
    "name": "ipython",
    "version": 3
   },
   "file_extension": ".py",
   "mimetype": "text/x-python",
   "name": "python",
   "nbconvert_exporter": "python",
   "pygments_lexer": "ipython3",
   "version": "3.6.4"
  }
 },
 "nbformat": 4,
 "nbformat_minor": 2
}
