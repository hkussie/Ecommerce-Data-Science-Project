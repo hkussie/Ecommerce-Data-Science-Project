{
 "cells": [
  {
   "cell_type": "code",
   "execution_count": null,
   "metadata": {},
   "outputs": [],
   "source": [
    "# Compare the top 10 suppliers in 2017 to the top suppliers in 2016"
   ]
  },
  {
   "cell_type": "code",
   "execution_count": 1,
   "metadata": {},
   "outputs": [],
   "source": [
    "# Import pandas library into workbook\n",
    "import pandas as pd"
   ]
  },
  {
   "cell_type": "code",
   "execution_count": 2,
   "metadata": {},
   "outputs": [],
   "source": [
    "# Load dataset into workbook\n",
    "data2016 = pd.read_csv('2016pcard_data (1) (1).csv')"
   ]
  },
  {
   "cell_type": "code",
   "execution_count": 3,
   "metadata": {
    "scrolled": true
   },
   "outputs": [
    {
     "data": {
      "text/html": [
       "<div>\n",
       "<style scoped>\n",
       "    .dataframe tbody tr th:only-of-type {\n",
       "        vertical-align: middle;\n",
       "    }\n",
       "\n",
       "    .dataframe tbody tr th {\n",
       "        vertical-align: top;\n",
       "    }\n",
       "\n",
       "    .dataframe thead th {\n",
       "        text-align: right;\n",
       "    }\n",
       "</style>\n",
       "<table border=\"1\" class=\"dataframe\">\n",
       "  <thead>\n",
       "    <tr style=\"text-align: right;\">\n",
       "      <th></th>\n",
       "      <th>transactionid</th>\n",
       "      <th>amount</th>\n",
       "      <th>transactiondate</th>\n",
       "      <th>vendor</th>\n",
       "      <th>merchantcode</th>\n",
       "      <th>bu</th>\n",
       "      <th>account</th>\n",
       "      <th>ExpenseType</th>\n",
       "      <th>costcenter</th>\n",
       "    </tr>\n",
       "  </thead>\n",
       "  <tbody>\n",
       "    <tr>\n",
       "      <th>0</th>\n",
       "      <td>16pcc115</td>\n",
       "      <td>68.8330</td>\n",
       "      <td>6/26/2016</td>\n",
       "      <td>76</td>\n",
       "      <td>15100</td>\n",
       "      <td>100</td>\n",
       "      <td>8740</td>\n",
       "      <td>Building Suppliles</td>\n",
       "      <td>Corporate IT</td>\n",
       "    </tr>\n",
       "    <tr>\n",
       "      <th>1</th>\n",
       "      <td>16pcc128</td>\n",
       "      <td>22.9500</td>\n",
       "      <td>5/28/2016</td>\n",
       "      <td>76</td>\n",
       "      <td>15100</td>\n",
       "      <td>100</td>\n",
       "      <td>8740</td>\n",
       "      <td>Building Suppliles</td>\n",
       "      <td>Corporate IT</td>\n",
       "    </tr>\n",
       "    <tr>\n",
       "      <th>2</th>\n",
       "      <td>16pcc132</td>\n",
       "      <td>46.5290</td>\n",
       "      <td>9/12/2016</td>\n",
       "      <td>76</td>\n",
       "      <td>15100</td>\n",
       "      <td>100</td>\n",
       "      <td>8740</td>\n",
       "      <td>Building Suppliles</td>\n",
       "      <td>Corporate IT</td>\n",
       "    </tr>\n",
       "    <tr>\n",
       "      <th>3</th>\n",
       "      <td>16pcc133</td>\n",
       "      <td>6.6640</td>\n",
       "      <td>9/12/2016</td>\n",
       "      <td>76</td>\n",
       "      <td>15100</td>\n",
       "      <td>100</td>\n",
       "      <td>8740</td>\n",
       "      <td>Building Suppliles</td>\n",
       "      <td>Corporate IT</td>\n",
       "    </tr>\n",
       "    <tr>\n",
       "      <th>4</th>\n",
       "      <td>16pcc134</td>\n",
       "      <td>66.1980</td>\n",
       "      <td>12/6/2016</td>\n",
       "      <td>76</td>\n",
       "      <td>15100</td>\n",
       "      <td>100</td>\n",
       "      <td>8740</td>\n",
       "      <td>Building Suppliles</td>\n",
       "      <td>Corporate IT</td>\n",
       "    </tr>\n",
       "    <tr>\n",
       "      <th>5</th>\n",
       "      <td>16pcc139</td>\n",
       "      <td>16.2520</td>\n",
       "      <td>10/15/2016</td>\n",
       "      <td>76</td>\n",
       "      <td>15100</td>\n",
       "      <td>100</td>\n",
       "      <td>8740</td>\n",
       "      <td>Building Suppliles</td>\n",
       "      <td>Corporate IT</td>\n",
       "    </tr>\n",
       "    <tr>\n",
       "      <th>6</th>\n",
       "      <td>16pcc140</td>\n",
       "      <td>18.5725</td>\n",
       "      <td>8/10/2016</td>\n",
       "      <td>76</td>\n",
       "      <td>15100</td>\n",
       "      <td>100</td>\n",
       "      <td>8740</td>\n",
       "      <td>Building Suppliles</td>\n",
       "      <td>Corporate IT</td>\n",
       "    </tr>\n",
       "    <tr>\n",
       "      <th>7</th>\n",
       "      <td>16pcc142</td>\n",
       "      <td>10.6675</td>\n",
       "      <td>8/20/2016</td>\n",
       "      <td>76</td>\n",
       "      <td>15100</td>\n",
       "      <td>100</td>\n",
       "      <td>8740</td>\n",
       "      <td>Building Suppliles</td>\n",
       "      <td>Corporate IT</td>\n",
       "    </tr>\n",
       "    <tr>\n",
       "      <th>8</th>\n",
       "      <td>16pcc4</td>\n",
       "      <td>11.3645</td>\n",
       "      <td>7/24/2016</td>\n",
       "      <td>76</td>\n",
       "      <td>15100</td>\n",
       "      <td>100</td>\n",
       "      <td>8416</td>\n",
       "      <td>Car Rental</td>\n",
       "      <td>Corporate IT</td>\n",
       "    </tr>\n",
       "    <tr>\n",
       "      <th>9</th>\n",
       "      <td>16pcc13</td>\n",
       "      <td>8.1260</td>\n",
       "      <td>2/11/2016</td>\n",
       "      <td>76</td>\n",
       "      <td>15100</td>\n",
       "      <td>110</td>\n",
       "      <td>8416</td>\n",
       "      <td>Car Rental</td>\n",
       "      <td>Corporate IT</td>\n",
       "    </tr>\n",
       "  </tbody>\n",
       "</table>\n",
       "</div>"
      ],
      "text/plain": [
       "  transactionid   amount transactiondate vendor  merchantcode   bu  account  \\\n",
       "0      16pcc115  68.8330       6/26/2016     76         15100  100     8740   \n",
       "1      16pcc128  22.9500       5/28/2016     76         15100  100     8740   \n",
       "2      16pcc132  46.5290       9/12/2016     76         15100  100     8740   \n",
       "3      16pcc133   6.6640       9/12/2016     76         15100  100     8740   \n",
       "4      16pcc134  66.1980       12/6/2016     76         15100  100     8740   \n",
       "5      16pcc139  16.2520      10/15/2016     76         15100  100     8740   \n",
       "6      16pcc140  18.5725       8/10/2016     76         15100  100     8740   \n",
       "7      16pcc142  10.6675       8/20/2016     76         15100  100     8740   \n",
       "8        16pcc4  11.3645       7/24/2016     76         15100  100     8416   \n",
       "9       16pcc13   8.1260       2/11/2016     76         15100  110     8416   \n",
       "\n",
       "          ExpenseType    costcenter  \n",
       "0  Building Suppliles  Corporate IT  \n",
       "1  Building Suppliles  Corporate IT  \n",
       "2  Building Suppliles  Corporate IT  \n",
       "3  Building Suppliles  Corporate IT  \n",
       "4  Building Suppliles  Corporate IT  \n",
       "5  Building Suppliles  Corporate IT  \n",
       "6  Building Suppliles  Corporate IT  \n",
       "7  Building Suppliles  Corporate IT  \n",
       "8          Car Rental  Corporate IT  \n",
       "9          Car Rental  Corporate IT  "
      ]
     },
     "execution_count": 3,
     "metadata": {},
     "output_type": "execute_result"
    }
   ],
   "source": [
    "data2016[:10]"
   ]
  },
  {
   "cell_type": "code",
   "execution_count": 23,
   "metadata": {},
   "outputs": [
    {
     "data": {
      "text/plain": [
       "78223597.70494998"
      ]
     },
     "execution_count": 23,
     "metadata": {},
     "output_type": "execute_result"
    }
   ],
   "source": [
    "data2016.amount.sum()"
   ]
  },
  {
   "cell_type": "code",
   "execution_count": 42,
   "metadata": {},
   "outputs": [
    {
     "data": {
      "text/html": [
       "<div>\n",
       "<style scoped>\n",
       "    .dataframe tbody tr th:only-of-type {\n",
       "        vertical-align: middle;\n",
       "    }\n",
       "\n",
       "    .dataframe tbody tr th {\n",
       "        vertical-align: top;\n",
       "    }\n",
       "\n",
       "    .dataframe thead th {\n",
       "        text-align: right;\n",
       "    }\n",
       "</style>\n",
       "<table border=\"1\" class=\"dataframe\">\n",
       "  <thead>\n",
       "    <tr style=\"text-align: right;\">\n",
       "      <th></th>\n",
       "      <th>amount</th>\n",
       "      <th>merchantcode</th>\n",
       "      <th>bu</th>\n",
       "      <th>account</th>\n",
       "    </tr>\n",
       "    <tr>\n",
       "      <th>vendor</th>\n",
       "      <th></th>\n",
       "      <th></th>\n",
       "      <th></th>\n",
       "      <th></th>\n",
       "    </tr>\n",
       "  </thead>\n",
       "  <tbody>\n",
       "    <tr>\n",
       "      <th>IBM</th>\n",
       "      <td>6.773291e+06</td>\n",
       "      <td>81226833</td>\n",
       "      <td>160060</td>\n",
       "      <td>13727917</td>\n",
       "    </tr>\n",
       "    <tr>\n",
       "      <th>CDW Direct</th>\n",
       "      <td>5.818678e+06</td>\n",
       "      <td>874331141</td>\n",
       "      <td>2043230</td>\n",
       "      <td>168334248</td>\n",
       "    </tr>\n",
       "    <tr>\n",
       "      <th>Oracle, Inc.</th>\n",
       "      <td>3.892199e+06</td>\n",
       "      <td>524770</td>\n",
       "      <td>1060</td>\n",
       "      <td>86310</td>\n",
       "    </tr>\n",
       "    <tr>\n",
       "      <th>SALESFORCE.COM, INC.</th>\n",
       "      <td>3.884109e+06</td>\n",
       "      <td>154528137</td>\n",
       "      <td>984770</td>\n",
       "      <td>78018200</td>\n",
       "    </tr>\n",
       "    <tr>\n",
       "      <th>DataArt Solutions, Inc</th>\n",
       "      <td>2.673468e+06</td>\n",
       "      <td>258781125</td>\n",
       "      <td>555300</td>\n",
       "      <td>42733339</td>\n",
       "    </tr>\n",
       "    <tr>\n",
       "      <th>Apple, Inc.</th>\n",
       "      <td>2.611532e+06</td>\n",
       "      <td>538740</td>\n",
       "      <td>3380</td>\n",
       "      <td>256095</td>\n",
       "    </tr>\n",
       "    <tr>\n",
       "      <th>SMART IMS, INC</th>\n",
       "      <td>2.374320e+06</td>\n",
       "      <td>19849028</td>\n",
       "      <td>45110</td>\n",
       "      <td>2615524</td>\n",
       "    </tr>\n",
       "    <tr>\n",
       "      <th>Amazon AWS</th>\n",
       "      <td>2.232727e+06</td>\n",
       "      <td>251391815</td>\n",
       "      <td>1124280</td>\n",
       "      <td>88825441</td>\n",
       "    </tr>\n",
       "    <tr>\n",
       "      <th>Oxford Health Insurance, Inc</th>\n",
       "      <td>2.049244e+06</td>\n",
       "      <td>127084302</td>\n",
       "      <td>575660</td>\n",
       "      <td>42938560</td>\n",
       "    </tr>\n",
       "    <tr>\n",
       "      <th>OFFICE DEPOT</th>\n",
       "      <td>1.884776e+06</td>\n",
       "      <td>686418347</td>\n",
       "      <td>1931940</td>\n",
       "      <td>157195108</td>\n",
       "    </tr>\n",
       "  </tbody>\n",
       "</table>\n",
       "</div>"
      ],
      "text/plain": [
       "                                    amount  merchantcode       bu    account\n",
       "vendor                                                                      \n",
       "IBM                           6.773291e+06      81226833   160060   13727917\n",
       "CDW Direct                    5.818678e+06     874331141  2043230  168334248\n",
       "Oracle, Inc.                  3.892199e+06        524770     1060      86310\n",
       "SALESFORCE.COM, INC.          3.884109e+06     154528137   984770   78018200\n",
       "DataArt Solutions, Inc        2.673468e+06     258781125   555300   42733339\n",
       "Apple, Inc.                   2.611532e+06        538740     3380     256095\n",
       "SMART IMS, INC                2.374320e+06      19849028    45110    2615524\n",
       "Amazon AWS                    2.232727e+06     251391815  1124280   88825441\n",
       "Oxford Health Insurance, Inc  2.049244e+06     127084302   575660   42938560\n",
       "OFFICE DEPOT                  1.884776e+06     686418347  1931940  157195108"
      ]
     },
     "execution_count": 42,
     "metadata": {},
     "output_type": "execute_result"
    }
   ],
   "source": [
    "total_spent = data2016.groupby('vendor').sum()\n",
    "total_spent.nlargest(10, 'amount')"
   ]
  },
  {
   "cell_type": "code",
   "execution_count": 44,
   "metadata": {},
   "outputs": [
    {
     "data": {
      "text/html": [
       "<div>\n",
       "<style scoped>\n",
       "    .dataframe tbody tr th:only-of-type {\n",
       "        vertical-align: middle;\n",
       "    }\n",
       "\n",
       "    .dataframe tbody tr th {\n",
       "        vertical-align: top;\n",
       "    }\n",
       "\n",
       "    .dataframe thead th {\n",
       "        text-align: right;\n",
       "    }\n",
       "</style>\n",
       "<table border=\"1\" class=\"dataframe\">\n",
       "  <thead>\n",
       "    <tr style=\"text-align: right;\">\n",
       "      <th></th>\n",
       "      <th>vendor</th>\n",
       "      <th>amount</th>\n",
       "    </tr>\n",
       "  </thead>\n",
       "  <tbody>\n",
       "    <tr>\n",
       "      <th>0</th>\n",
       "      <td>76</td>\n",
       "      <td>68.8330</td>\n",
       "    </tr>\n",
       "    <tr>\n",
       "      <th>1</th>\n",
       "      <td>76</td>\n",
       "      <td>22.9500</td>\n",
       "    </tr>\n",
       "    <tr>\n",
       "      <th>2</th>\n",
       "      <td>76</td>\n",
       "      <td>46.5290</td>\n",
       "    </tr>\n",
       "    <tr>\n",
       "      <th>3</th>\n",
       "      <td>76</td>\n",
       "      <td>6.6640</td>\n",
       "    </tr>\n",
       "    <tr>\n",
       "      <th>4</th>\n",
       "      <td>76</td>\n",
       "      <td>66.1980</td>\n",
       "    </tr>\n",
       "    <tr>\n",
       "      <th>5</th>\n",
       "      <td>76</td>\n",
       "      <td>16.2520</td>\n",
       "    </tr>\n",
       "    <tr>\n",
       "      <th>6</th>\n",
       "      <td>76</td>\n",
       "      <td>18.5725</td>\n",
       "    </tr>\n",
       "    <tr>\n",
       "      <th>7</th>\n",
       "      <td>76</td>\n",
       "      <td>10.6675</td>\n",
       "    </tr>\n",
       "    <tr>\n",
       "      <th>8</th>\n",
       "      <td>76</td>\n",
       "      <td>11.3645</td>\n",
       "    </tr>\n",
       "    <tr>\n",
       "      <th>9</th>\n",
       "      <td>76</td>\n",
       "      <td>8.1260</td>\n",
       "    </tr>\n",
       "  </tbody>\n",
       "</table>\n",
       "</div>"
      ],
      "text/plain": [
       "  vendor   amount\n",
       "0     76  68.8330\n",
       "1     76  22.9500\n",
       "2     76  46.5290\n",
       "3     76   6.6640\n",
       "4     76  66.1980\n",
       "5     76  16.2520\n",
       "6     76  18.5725\n",
       "7     76  10.6675\n",
       "8     76  11.3645\n",
       "9     76   8.1260"
      ]
     },
     "execution_count": 44,
     "metadata": {},
     "output_type": "execute_result"
    }
   ],
   "source": [
    "supplier_spending = data2016[['vendor', 'amount']]\n",
    "supplier_spending[:10]"
   ]
  },
  {
   "cell_type": "code",
   "execution_count": 46,
   "metadata": {},
   "outputs": [
    {
     "name": "stdout",
     "output_type": "stream",
     "text": [
      "6773290.853499999\n"
     ]
    }
   ],
   "source": [
    "IBM_Spending = supplier_spending[supplier_spending['vendor'] == \"IBM\"]\n",
    "IBM_Spending_amount = IBM_Spending['amount']\n",
    "print(IBM_Spending_amount.sum())"
   ]
  },
  {
   "cell_type": "code",
   "execution_count": 47,
   "metadata": {},
   "outputs": [
    {
     "name": "stdout",
     "output_type": "stream",
     "text": [
      "5818677.6712\n"
     ]
    }
   ],
   "source": [
    "CDW_Direct_Spending = supplier_spending[supplier_spending['vendor'] == \"CDW Direct\"]\n",
    "CDW_Direct_Spending_amount = CDW_Direct_Spending['amount']\n",
    "print(CDW_Direct_Spending_amount.sum())"
   ]
  },
  {
   "cell_type": "code",
   "execution_count": 48,
   "metadata": {},
   "outputs": [
    {
     "name": "stdout",
     "output_type": "stream",
     "text": [
      "3892199.0\n"
     ]
    }
   ],
   "source": [
    "Oracle_Spending = supplier_spending[supplier_spending['vendor'] == \"Oracle, Inc.\"]\n",
    "Oracle_Spending_amount = Oracle_Spending['amount']\n",
    "print(Oracle_Spending_amount.sum())"
   ]
  },
  {
   "cell_type": "code",
   "execution_count": 49,
   "metadata": {},
   "outputs": [
    {
     "name": "stdout",
     "output_type": "stream",
     "text": [
      "3884109.0870000003\n"
     ]
    }
   ],
   "source": [
    "SalesForce_Spending = supplier_spending[supplier_spending['vendor'] == \"SALESFORCE.COM, INC.\"]\n",
    "SalesForce_Spending_amount = SalesForce_Spending['amount']\n",
    "print(SalesForce_Spending_amount.sum())"
   ]
  },
  {
   "cell_type": "code",
   "execution_count": 51,
   "metadata": {},
   "outputs": [
    {
     "name": "stdout",
     "output_type": "stream",
     "text": [
      "2673467.5725\n"
     ]
    }
   ],
   "source": [
    "DataArt_Solutions_Spending = supplier_spending[supplier_spending['vendor'] == \"DataArt Solutions, Inc\"]\n",
    "DataArt_Solutions_Spending_amount = DataArt_Solutions_Spending['amount']\n",
    "print(DataArt_Solutions_Spending_amount.sum())"
   ]
  },
  {
   "cell_type": "code",
   "execution_count": 52,
   "metadata": {},
   "outputs": [
    {
     "name": "stdout",
     "output_type": "stream",
     "text": [
      "2611532.3414999996\n"
     ]
    }
   ],
   "source": [
    "Apple_Spending = supplier_spending[supplier_spending['vendor'] == \"Apple, Inc.\"]\n",
    "Apple_Spending_amount = Apple_Spending['amount']\n",
    "print(Apple_Spending_amount.sum())"
   ]
  },
  {
   "cell_type": "code",
   "execution_count": 53,
   "metadata": {},
   "outputs": [
    {
     "name": "stdout",
     "output_type": "stream",
     "text": [
      "2374319.858\n"
     ]
    }
   ],
   "source": [
    "Smart_IMS_Spending = supplier_spending[supplier_spending['vendor'] == \"SMART IMS, INC\"]\n",
    "Smart_IMS_Spending_amount = Smart_IMS_Spending['amount']\n",
    "print(Smart_IMS_Spending_amount.sum())"
   ]
  },
  {
   "cell_type": "code",
   "execution_count": 54,
   "metadata": {},
   "outputs": [
    {
     "name": "stdout",
     "output_type": "stream",
     "text": [
      "2232726.9984999998\n"
     ]
    }
   ],
   "source": [
    "Amazon_AWS_Spending = supplier_spending[supplier_spending['vendor'] == \"Amazon AWS\"]\n",
    "Amazon_AWS_Spending_amount = Amazon_AWS_Spending['amount']\n",
    "print(Amazon_AWS_Spending_amount.sum())"
   ]
  },
  {
   "cell_type": "code",
   "execution_count": 55,
   "metadata": {},
   "outputs": [
    {
     "name": "stdout",
     "output_type": "stream",
     "text": [
      "2049243.619\n"
     ]
    }
   ],
   "source": [
    "Oxford_Health_Insurance_Spending = supplier_spending[supplier_spending['vendor'] == \"Oxford Health Insurance, Inc\"]\n",
    "Oxford_Health_Insurance_Spending_amount = Oxford_Health_Insurance_Spending['amount']\n",
    "print(Oxford_Health_Insurance_Spending_amount.sum())"
   ]
  },
  {
   "cell_type": "code",
   "execution_count": 56,
   "metadata": {
    "scrolled": true
   },
   "outputs": [
    {
     "name": "stdout",
     "output_type": "stream",
     "text": [
      "1884776.449\n"
     ]
    }
   ],
   "source": [
    "Office_Depot_Spending = supplier_spending[supplier_spending['vendor'] == \"OFFICE DEPOT\"]\n",
    "Office_Depot_Spending_amount = Office_Depot_Spending['amount']\n",
    "print(Office_Depot_Spending_amount.sum())"
   ]
  },
  {
   "cell_type": "code",
   "execution_count": 6,
   "metadata": {},
   "outputs": [
    {
     "data": {
      "text/plain": [
       "UBER                            20065\n",
       "CDW Direct                      19699\n",
       "OFFICE DEPOT                    18511\n",
       "Amazon AWS                      10568\n",
       "SALESFORCE.COM, INC.             9105\n",
       "ULINE                            7071\n",
       "STARBUCKS STORE                  6439\n",
       "TARGET                           5703\n",
       "TELEPRESS                        5626\n",
       "Oxford Health Insurance, Inc     5288\n",
       "Name: vendor, dtype: int64"
      ]
     },
     "execution_count": 6,
     "metadata": {},
     "output_type": "execute_result"
    }
   ],
   "source": [
    "vendor = data2016['vendor']\n",
    "top_vendor = vendor.value_counts()\n",
    "top_vendor[:10]"
   ]
  }
 ],
 "metadata": {
  "kernelspec": {
   "display_name": "Python 3",
   "language": "python",
   "name": "python3"
  },
  "language_info": {
   "codemirror_mode": {
    "name": "ipython",
    "version": 3
   },
   "file_extension": ".py",
   "mimetype": "text/x-python",
   "name": "python",
   "nbconvert_exporter": "python",
   "pygments_lexer": "ipython3",
   "version": "3.6.4"
  }
 },
 "nbformat": 4,
 "nbformat_minor": 2
}
