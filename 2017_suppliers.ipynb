{
 "cells": [
  {
   "cell_type": "code",
   "execution_count": null,
   "metadata": {},
   "outputs": [],
   "source": [
    "# What are the top 10 suppliers for 2017 \n",
    "# and how much is spent on each supplier? "
   ]
  },
  {
   "cell_type": "code",
   "execution_count": 44,
   "metadata": {},
   "outputs": [],
   "source": [
    "# Import pandas library\n",
    "import pandas as pd "
   ]
  },
  {
   "cell_type": "code",
   "execution_count": 45,
   "metadata": {},
   "outputs": [],
   "source": [
    "# Load primary dataset \n",
    "data2017 = pd.read_csv('2017pcard_data (1).csv')"
   ]
  },
  {
   "cell_type": "code",
   "execution_count": 59,
   "metadata": {},
   "outputs": [
    {
     "data": {
      "text/html": [
       "<div>\n",
       "<style scoped>\n",
       "    .dataframe tbody tr th:only-of-type {\n",
       "        vertical-align: middle;\n",
       "    }\n",
       "\n",
       "    .dataframe tbody tr th {\n",
       "        vertical-align: top;\n",
       "    }\n",
       "\n",
       "    .dataframe thead th {\n",
       "        text-align: right;\n",
       "    }\n",
       "</style>\n",
       "<table border=\"1\" class=\"dataframe\">\n",
       "  <thead>\n",
       "    <tr style=\"text-align: right;\">\n",
       "      <th></th>\n",
       "      <th>transactionid</th>\n",
       "      <th>amount</th>\n",
       "      <th>transactiondate</th>\n",
       "      <th>vendor</th>\n",
       "      <th>merchantcode</th>\n",
       "      <th>bu</th>\n",
       "      <th>account</th>\n",
       "      <th>ExpenseType</th>\n",
       "      <th>costcenter</th>\n",
       "    </tr>\n",
       "  </thead>\n",
       "  <tbody>\n",
       "    <tr>\n",
       "      <th>0</th>\n",
       "      <td>17pcp8865</td>\n",
       "      <td>18.929075</td>\n",
       "      <td>7/10/2017</td>\n",
       "      <td>76</td>\n",
       "      <td>15100</td>\n",
       "      <td>100</td>\n",
       "      <td>8740</td>\n",
       "      <td>Building Suppliles</td>\n",
       "      <td>Corporate IT</td>\n",
       "    </tr>\n",
       "    <tr>\n",
       "      <th>1</th>\n",
       "      <td>17pcp17762</td>\n",
       "      <td>53.014500</td>\n",
       "      <td>6/11/2017</td>\n",
       "      <td>76</td>\n",
       "      <td>15100</td>\n",
       "      <td>100</td>\n",
       "      <td>8740</td>\n",
       "      <td>Building Suppliles</td>\n",
       "      <td>Corporate IT</td>\n",
       "    </tr>\n",
       "    <tr>\n",
       "      <th>2</th>\n",
       "      <td>17pcp154402</td>\n",
       "      <td>70.662625</td>\n",
       "      <td>7/29/2017</td>\n",
       "      <td>76</td>\n",
       "      <td>15100</td>\n",
       "      <td>100</td>\n",
       "      <td>8416</td>\n",
       "      <td>Car Rental</td>\n",
       "      <td>Corporate IT</td>\n",
       "    </tr>\n",
       "    <tr>\n",
       "      <th>3</th>\n",
       "      <td>17pcp155646</td>\n",
       "      <td>24.557775</td>\n",
       "      <td>5/27/2017</td>\n",
       "      <td>76</td>\n",
       "      <td>15100</td>\n",
       "      <td>100</td>\n",
       "      <td>8416</td>\n",
       "      <td>Car Rental</td>\n",
       "      <td>Corporate IT</td>\n",
       "    </tr>\n",
       "    <tr>\n",
       "      <th>4</th>\n",
       "      <td>17pcp146243</td>\n",
       "      <td>46.717275</td>\n",
       "      <td>3/21/2017</td>\n",
       "      <td>76</td>\n",
       "      <td>15100</td>\n",
       "      <td>200</td>\n",
       "      <td>8416</td>\n",
       "      <td>Car Rental</td>\n",
       "      <td>Corporate IT</td>\n",
       "    </tr>\n",
       "    <tr>\n",
       "      <th>5</th>\n",
       "      <td>17pcp152407</td>\n",
       "      <td>21.037500</td>\n",
       "      <td>2/28/2017</td>\n",
       "      <td>76</td>\n",
       "      <td>15100</td>\n",
       "      <td>110</td>\n",
       "      <td>8416</td>\n",
       "      <td>Car Rental</td>\n",
       "      <td>Corporate IT</td>\n",
       "    </tr>\n",
       "    <tr>\n",
       "      <th>6</th>\n",
       "      <td>17pcp18692</td>\n",
       "      <td>2.234650</td>\n",
       "      <td>2/24/2017</td>\n",
       "      <td>76</td>\n",
       "      <td>15100</td>\n",
       "      <td>110</td>\n",
       "      <td>8416</td>\n",
       "      <td>Car Rental</td>\n",
       "      <td>Corporate IT</td>\n",
       "    </tr>\n",
       "    <tr>\n",
       "      <th>7</th>\n",
       "      <td>17pcp174097</td>\n",
       "      <td>3.812930</td>\n",
       "      <td>1/31/2017</td>\n",
       "      <td>76</td>\n",
       "      <td>15100</td>\n",
       "      <td>110</td>\n",
       "      <td>8416</td>\n",
       "      <td>Car Rental</td>\n",
       "      <td>Corporate IT</td>\n",
       "    </tr>\n",
       "    <tr>\n",
       "      <th>8</th>\n",
       "      <td>17pcp179969</td>\n",
       "      <td>27.173437</td>\n",
       "      <td>1/7/2017</td>\n",
       "      <td>76</td>\n",
       "      <td>15100</td>\n",
       "      <td>100</td>\n",
       "      <td>8416</td>\n",
       "      <td>Car Rental</td>\n",
       "      <td>Corporate IT</td>\n",
       "    </tr>\n",
       "    <tr>\n",
       "      <th>9</th>\n",
       "      <td>17pcp173014</td>\n",
       "      <td>10.227030</td>\n",
       "      <td>1/3/2017</td>\n",
       "      <td>76</td>\n",
       "      <td>15100</td>\n",
       "      <td>100</td>\n",
       "      <td>8416</td>\n",
       "      <td>Car Rental</td>\n",
       "      <td>Corporate IT</td>\n",
       "    </tr>\n",
       "  </tbody>\n",
       "</table>\n",
       "</div>"
      ],
      "text/plain": [
       "  transactionid     amount transactiondate vendor  merchantcode   bu  account  \\\n",
       "0     17pcp8865  18.929075       7/10/2017     76         15100  100     8740   \n",
       "1    17pcp17762  53.014500       6/11/2017     76         15100  100     8740   \n",
       "2   17pcp154402  70.662625       7/29/2017     76         15100  100     8416   \n",
       "3   17pcp155646  24.557775       5/27/2017     76         15100  100     8416   \n",
       "4   17pcp146243  46.717275       3/21/2017     76         15100  200     8416   \n",
       "5   17pcp152407  21.037500       2/28/2017     76         15100  110     8416   \n",
       "6    17pcp18692   2.234650       2/24/2017     76         15100  110     8416   \n",
       "7   17pcp174097   3.812930       1/31/2017     76         15100  110     8416   \n",
       "8   17pcp179969  27.173437        1/7/2017     76         15100  100     8416   \n",
       "9   17pcp173014  10.227030        1/3/2017     76         15100  100     8416   \n",
       "\n",
       "          ExpenseType    costcenter  \n",
       "0  Building Suppliles  Corporate IT  \n",
       "1  Building Suppliles  Corporate IT  \n",
       "2          Car Rental  Corporate IT  \n",
       "3          Car Rental  Corporate IT  \n",
       "4          Car Rental  Corporate IT  \n",
       "5          Car Rental  Corporate IT  \n",
       "6          Car Rental  Corporate IT  \n",
       "7          Car Rental  Corporate IT  \n",
       "8          Car Rental  Corporate IT  \n",
       "9          Car Rental  Corporate IT  "
      ]
     },
     "execution_count": 59,
     "metadata": {},
     "output_type": "execute_result"
    }
   ],
   "source": [
    "data2017[:10]"
   ]
  },
  {
   "cell_type": "code",
   "execution_count": 60,
   "metadata": {},
   "outputs": [
    {
     "data": {
      "text/plain": [
       "48314971.5714826"
      ]
     },
     "execution_count": 60,
     "metadata": {},
     "output_type": "execute_result"
    }
   ],
   "source": [
    "data2017.amount.sum()"
   ]
  },
  {
   "cell_type": "code",
   "execution_count": 61,
   "metadata": {},
   "outputs": [
    {
     "data": {
      "text/html": [
       "<div>\n",
       "<style scoped>\n",
       "    .dataframe tbody tr th:only-of-type {\n",
       "        vertical-align: middle;\n",
       "    }\n",
       "\n",
       "    .dataframe tbody tr th {\n",
       "        vertical-align: top;\n",
       "    }\n",
       "\n",
       "    .dataframe thead th {\n",
       "        text-align: right;\n",
       "    }\n",
       "</style>\n",
       "<table border=\"1\" class=\"dataframe\">\n",
       "  <thead>\n",
       "    <tr style=\"text-align: right;\">\n",
       "      <th></th>\n",
       "      <th>amount</th>\n",
       "      <th>merchantcode</th>\n",
       "      <th>bu</th>\n",
       "      <th>account</th>\n",
       "    </tr>\n",
       "    <tr>\n",
       "      <th>vendor</th>\n",
       "      <th></th>\n",
       "      <th></th>\n",
       "      <th></th>\n",
       "      <th></th>\n",
       "    </tr>\n",
       "  </thead>\n",
       "  <tbody>\n",
       "    <tr>\n",
       "      <th>IBM</th>\n",
       "      <td>4.559476e+06</td>\n",
       "      <td>44504125</td>\n",
       "      <td>88130</td>\n",
       "      <td>7547970</td>\n",
       "    </tr>\n",
       "    <tr>\n",
       "      <th>CDW Direct</th>\n",
       "      <td>3.453158e+06</td>\n",
       "      <td>501450980</td>\n",
       "      <td>1169610</td>\n",
       "      <td>96555068</td>\n",
       "    </tr>\n",
       "    <tr>\n",
       "      <th>Apple, Inc.</th>\n",
       "      <td>2.408586e+06</td>\n",
       "      <td>269370</td>\n",
       "      <td>1650</td>\n",
       "      <td>129150</td>\n",
       "    </tr>\n",
       "    <tr>\n",
       "      <th>Microsoft Corporation</th>\n",
       "      <td>2.178931e+06</td>\n",
       "      <td>704106</td>\n",
       "      <td>3250</td>\n",
       "      <td>172035</td>\n",
       "    </tr>\n",
       "    <tr>\n",
       "      <th>CENTURYLINK</th>\n",
       "      <td>1.796469e+06</td>\n",
       "      <td>78381879</td>\n",
       "      <td>404860</td>\n",
       "      <td>29317211</td>\n",
       "    </tr>\n",
       "    <tr>\n",
       "      <th>SMART IMS, INC</th>\n",
       "      <td>1.729185e+06</td>\n",
       "      <td>12725741</td>\n",
       "      <td>29240</td>\n",
       "      <td>1664085</td>\n",
       "    </tr>\n",
       "    <tr>\n",
       "      <th>Amazon AWS</th>\n",
       "      <td>1.668552e+06</td>\n",
       "      <td>193359214</td>\n",
       "      <td>769100</td>\n",
       "      <td>59824807</td>\n",
       "    </tr>\n",
       "    <tr>\n",
       "      <th>Oracle, Inc.</th>\n",
       "      <td>1.529637e+06</td>\n",
       "      <td>138998</td>\n",
       "      <td>420</td>\n",
       "      <td>34480</td>\n",
       "    </tr>\n",
       "    <tr>\n",
       "      <th>DataArt Solutions, Inc</th>\n",
       "      <td>1.270112e+06</td>\n",
       "      <td>137858799</td>\n",
       "      <td>297430</td>\n",
       "      <td>22766296</td>\n",
       "    </tr>\n",
       "    <tr>\n",
       "      <th>SALESFORCE.COM, INC.</th>\n",
       "      <td>1.240089e+06</td>\n",
       "      <td>86369755</td>\n",
       "      <td>563600</td>\n",
       "      <td>44621258</td>\n",
       "    </tr>\n",
       "  </tbody>\n",
       "</table>\n",
       "</div>"
      ],
      "text/plain": [
       "                              amount  merchantcode       bu   account\n",
       "vendor                                                               \n",
       "IBM                     4.559476e+06      44504125    88130   7547970\n",
       "CDW Direct              3.453158e+06     501450980  1169610  96555068\n",
       "Apple, Inc.             2.408586e+06        269370     1650    129150\n",
       "Microsoft Corporation   2.178931e+06        704106     3250    172035\n",
       "CENTURYLINK             1.796469e+06      78381879   404860  29317211\n",
       "SMART IMS, INC          1.729185e+06      12725741    29240   1664085\n",
       "Amazon AWS              1.668552e+06     193359214   769100  59824807\n",
       "Oracle, Inc.            1.529637e+06        138998      420     34480\n",
       "DataArt Solutions, Inc  1.270112e+06     137858799   297430  22766296\n",
       "SALESFORCE.COM, INC.    1.240089e+06      86369755   563600  44621258"
      ]
     },
     "execution_count": 61,
     "metadata": {},
     "output_type": "execute_result"
    }
   ],
   "source": [
    "total_spent = data2017.groupby('vendor').sum()\n",
    "total_spent.nlargest(10, 'amount')"
   ]
  },
  {
   "cell_type": "code",
   "execution_count": 62,
   "metadata": {},
   "outputs": [
    {
     "data": {
      "text/html": [
       "<div>\n",
       "<style scoped>\n",
       "    .dataframe tbody tr th:only-of-type {\n",
       "        vertical-align: middle;\n",
       "    }\n",
       "\n",
       "    .dataframe tbody tr th {\n",
       "        vertical-align: top;\n",
       "    }\n",
       "\n",
       "    .dataframe thead th {\n",
       "        text-align: right;\n",
       "    }\n",
       "</style>\n",
       "<table border=\"1\" class=\"dataframe\">\n",
       "  <thead>\n",
       "    <tr style=\"text-align: right;\">\n",
       "      <th></th>\n",
       "      <th>vendor</th>\n",
       "      <th>amount</th>\n",
       "    </tr>\n",
       "  </thead>\n",
       "  <tbody>\n",
       "    <tr>\n",
       "      <th>0</th>\n",
       "      <td>76</td>\n",
       "      <td>18.929075</td>\n",
       "    </tr>\n",
       "    <tr>\n",
       "      <th>1</th>\n",
       "      <td>76</td>\n",
       "      <td>53.014500</td>\n",
       "    </tr>\n",
       "    <tr>\n",
       "      <th>2</th>\n",
       "      <td>76</td>\n",
       "      <td>70.662625</td>\n",
       "    </tr>\n",
       "    <tr>\n",
       "      <th>3</th>\n",
       "      <td>76</td>\n",
       "      <td>24.557775</td>\n",
       "    </tr>\n",
       "    <tr>\n",
       "      <th>4</th>\n",
       "      <td>76</td>\n",
       "      <td>46.717275</td>\n",
       "    </tr>\n",
       "    <tr>\n",
       "      <th>5</th>\n",
       "      <td>76</td>\n",
       "      <td>21.037500</td>\n",
       "    </tr>\n",
       "    <tr>\n",
       "      <th>6</th>\n",
       "      <td>76</td>\n",
       "      <td>2.234650</td>\n",
       "    </tr>\n",
       "    <tr>\n",
       "      <th>7</th>\n",
       "      <td>76</td>\n",
       "      <td>3.812930</td>\n",
       "    </tr>\n",
       "    <tr>\n",
       "      <th>8</th>\n",
       "      <td>76</td>\n",
       "      <td>27.173437</td>\n",
       "    </tr>\n",
       "    <tr>\n",
       "      <th>9</th>\n",
       "      <td>76</td>\n",
       "      <td>10.227030</td>\n",
       "    </tr>\n",
       "  </tbody>\n",
       "</table>\n",
       "</div>"
      ],
      "text/plain": [
       "  vendor     amount\n",
       "0     76  18.929075\n",
       "1     76  53.014500\n",
       "2     76  70.662625\n",
       "3     76  24.557775\n",
       "4     76  46.717275\n",
       "5     76  21.037500\n",
       "6     76   2.234650\n",
       "7     76   3.812930\n",
       "8     76  27.173437\n",
       "9     76  10.227030"
      ]
     },
     "execution_count": 62,
     "metadata": {},
     "output_type": "execute_result"
    }
   ],
   "source": [
    "supplier_spending = data2017[['vendor', 'amount']]\n",
    "supplier_spending[:10]"
   ]
  },
  {
   "cell_type": "code",
   "execution_count": 63,
   "metadata": {},
   "outputs": [
    {
     "name": "stdout",
     "output_type": "stream",
     "text": [
      "4559475.9999565\n"
     ]
    }
   ],
   "source": [
    "IBM_Spending = supplier_spending[supplier_spending['vendor'] == \"IBM\"]\n",
    "IBM_Spending_amount = IBM_Spending['amount']\n",
    "print(IBM_Spending_amount.sum())"
   ]
  },
  {
   "cell_type": "code",
   "execution_count": 64,
   "metadata": {},
   "outputs": [
    {
     "name": "stdout",
     "output_type": "stream",
     "text": [
      "3453158.0877008\n"
     ]
    }
   ],
   "source": [
    "CDW_Direct_Spending = supplier_spending[supplier_spending['vendor'] == \"CDW Direct\"]\n",
    "CDW_Direct_Spending_amount = CDW_Direct_Spending['amount']\n",
    "print(CDW_Direct_Spending_amount.sum())"
   ]
  },
  {
   "cell_type": "code",
   "execution_count": 66,
   "metadata": {},
   "outputs": [
    {
     "name": "stdout",
     "output_type": "stream",
     "text": [
      "2408585.5117699997\n"
     ]
    }
   ],
   "source": [
    "Apple_Spending = supplier_spending[supplier_spending['vendor'] == \"Apple, Inc.\"]\n",
    "Apple_Spending_amount = Apple_Spending['amount']\n",
    "print(Apple_Spending_amount.sum())"
   ]
  },
  {
   "cell_type": "code",
   "execution_count": 67,
   "metadata": {},
   "outputs": [
    {
     "name": "stdout",
     "output_type": "stream",
     "text": [
      "2178931.1080170004\n"
     ]
    }
   ],
   "source": [
    "Microsoft_Spending = supplier_spending[supplier_spending['vendor'] == \"Microsoft Corporation\"]\n",
    "Microsoft_Spending_amount = Microsoft_Spending['amount']\n",
    "print(Microsoft_Spending_amount.sum())"
   ]
  },
  {
   "cell_type": "code",
   "execution_count": 68,
   "metadata": {},
   "outputs": [
    {
     "name": "stdout",
     "output_type": "stream",
     "text": [
      "1796468.6153715001\n"
     ]
    }
   ],
   "source": [
    "CenturyLink_Spending = supplier_spending[supplier_spending['vendor'] == \"CENTURYLINK\"]\n",
    "CenturyLink_Spending_amount = CenturyLink_Spending['amount']\n",
    "print(CenturyLink_Spending_amount.sum())"
   ]
  },
  {
   "cell_type": "code",
   "execution_count": 69,
   "metadata": {},
   "outputs": [
    {
     "name": "stdout",
     "output_type": "stream",
     "text": [
      "1729184.7013375\n"
     ]
    }
   ],
   "source": [
    "Smart_IMS_Spending = supplier_spending[supplier_spending['vendor'] == \"SMART IMS, INC\"]\n",
    "Smart_IMS_Spending_amount = Smart_IMS_Spending['amount']\n",
    "print(Smart_IMS_Spending_amount.sum())"
   ]
  },
  {
   "cell_type": "code",
   "execution_count": 70,
   "metadata": {},
   "outputs": [
    {
     "name": "stdout",
     "output_type": "stream",
     "text": [
      "1668552.2955445\n"
     ]
    }
   ],
   "source": [
    "Amazon_AWS_Spending = supplier_spending[supplier_spending['vendor'] == \"Amazon AWS\"]\n",
    "Amazon_AWS_Spending_amount = Amazon_AWS_Spending['amount']\n",
    "print(Amazon_AWS_Spending_amount.sum())"
   ]
  },
  {
   "cell_type": "code",
   "execution_count": 71,
   "metadata": {},
   "outputs": [
    {
     "name": "stdout",
     "output_type": "stream",
     "text": [
      "1529637.4751999998\n"
     ]
    }
   ],
   "source": [
    "Oracle_Spending = supplier_spending[supplier_spending['vendor'] == \"Oracle, Inc.\"]\n",
    "Oracle_Spending_amount = Oracle_Spending['amount']\n",
    "print(Oracle_Spending_amount.sum())"
   ]
  },
  {
   "cell_type": "code",
   "execution_count": 72,
   "metadata": {},
   "outputs": [
    {
     "name": "stdout",
     "output_type": "stream",
     "text": [
      "1270111.8704175\n"
     ]
    }
   ],
   "source": [
    "DataArt_Solutions_Spending = supplier_spending[supplier_spending['vendor'] == \"DataArt Solutions, Inc\"]\n",
    "DataArt_Solutions_Spending_amount = DataArt_Solutions_Spending['amount']\n",
    "print(DataArt_Solutions_Spending_amount.sum())"
   ]
  },
  {
   "cell_type": "code",
   "execution_count": 73,
   "metadata": {},
   "outputs": [
    {
     "name": "stdout",
     "output_type": "stream",
     "text": [
      "1240089.3623755001\n"
     ]
    }
   ],
   "source": [
    "SalesForce_Solutions_Spending = supplier_spending[supplier_spending['vendor'] == \"SALESFORCE.COM, INC.\"]\n",
    "SalesForce_Solutions_Spending_amount = SalesForce_Solutions_Spending['amount']\n",
    "print(SalesForce_Solutions_Spending_amount.sum())"
   ]
  },
  {
   "cell_type": "code",
   "execution_count": 42,
   "metadata": {},
   "outputs": [
    {
     "data": {
      "text/plain": [
       "CDW Direct                11293\n",
       "OFFICE DEPOT              10891\n",
       "UBER                      10552\n",
       "Amazon AWS                 7109\n",
       "SALESFORCE.COM, INC.       5196\n",
       "Staples                    3733\n",
       "TELEPRESS                  3469\n",
       "CENTURYLINK                3417\n",
       "TARGET                     2985\n",
       "DataArt Solutions, Inc     2709\n",
       "Name: vendor, dtype: int64"
      ]
     },
     "execution_count": 42,
     "metadata": {},
     "output_type": "execute_result"
    }
   ],
   "source": [
    "top_supliers = suppliers.value_counts()\n",
    "top_supliers[:10]"
   ]
  }
 ],
 "metadata": {
  "kernelspec": {
   "display_name": "Python 3",
   "language": "python",
   "name": "python3"
  },
  "language_info": {
   "codemirror_mode": {
    "name": "ipython",
    "version": 3
   },
   "file_extension": ".py",
   "mimetype": "text/x-python",
   "name": "python",
   "nbconvert_exporter": "python",
   "pygments_lexer": "ipython3",
   "version": "3.6.4"
  }
 },
 "nbformat": 4,
 "nbformat_minor": 2
}
