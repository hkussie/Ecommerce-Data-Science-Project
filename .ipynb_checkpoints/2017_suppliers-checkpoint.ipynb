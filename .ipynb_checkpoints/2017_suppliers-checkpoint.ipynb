{
 "cells": [
  {
   "cell_type": "code",
   "execution_count": null,
   "metadata": {},
   "outputs": [],
   "source": [
    "# What are the top 10 suppliers for 2017 \n",
    "# and how much is spent on each supplier? "
   ]
  },
  {
   "cell_type": "code",
   "execution_count": 44,
   "metadata": {},
   "outputs": [],
   "source": [
    "# Import pandas library\n",
    "import pandas as pd "
   ]
  },
  {
   "cell_type": "code",
   "execution_count": 45,
   "metadata": {},
   "outputs": [],
   "source": [
    "# Load primary dataset \n",
    "data2017 = pd.read_csv('2017pcard_data (1).csv')"
   ]
  },
  {
   "cell_type": "code",
   "execution_count": 59,
   "metadata": {},
   "outputs": [
    {
     "data": {
      "text/html": [
       "<div>\n",
       "<style scoped>\n",
       "    .dataframe tbody tr th:only-of-type {\n",
       "        vertical-align: middle;\n",
       "    }\n",
       "\n",
       "    .dataframe tbody tr th {\n",
       "        vertical-align: top;\n",
       "    }\n",
       "\n",
       "    .dataframe thead th {\n",
       "        text-align: right;\n",
       "    }\n",
       "</style>\n",
       "<table border=\"1\" class=\"dataframe\">\n",
       "  <thead>\n",
       "    <tr style=\"text-align: right;\">\n",
       "      <th></th>\n",
       "      <th>transactionid</th>\n",
       "      <th>amount</th>\n",
       "      <th>transactiondate</th>\n",
       "      <th>vendor</th>\n",
       "      <th>merchantcode</th>\n",
       "      <th>bu</th>\n",
       "      <th>account</th>\n",
       "      <th>ExpenseType</th>\n",
       "      <th>costcenter</th>\n",
       "    </tr>\n",
       "  </thead>\n",
       "  <tbody>\n",
       "    <tr>\n",
       "      <th>0</th>\n",
       "      <td>17pcp8865</td>\n",
       "      <td>18.929075</td>\n",
       "      <td>7/10/2017</td>\n",
       "      <td>76</td>\n",
       "      <td>15100</td>\n",
       "      <td>100</td>\n",
       "      <td>8740</td>\n",
       "      <td>Building Suppliles</td>\n",
       "      <td>Corporate IT</td>\n",
       "    </tr>\n",
       "    <tr>\n",
       "      <th>1</th>\n",
       "      <td>17pcp17762</td>\n",
       "      <td>53.014500</td>\n",
       "      <td>6/11/2017</td>\n",
       "      <td>76</td>\n",
       "      <td>15100</td>\n",
       "      <td>100</td>\n",
       "      <td>8740</td>\n",
       "      <td>Building Suppliles</td>\n",
       "      <td>Corporate IT</td>\n",
       "    </tr>\n",
       "    <tr>\n",
       "      <th>2</th>\n",
       "      <td>17pcp154402</td>\n",
       "      <td>70.662625</td>\n",
       "      <td>7/29/2017</td>\n",
       "      <td>76</td>\n",
       "      <td>15100</td>\n",
       "      <td>100</td>\n",
       "      <td>8416</td>\n",
       "      <td>Car Rental</td>\n",
       "      <td>Corporate IT</td>\n",
       "    </tr>\n",
       "    <tr>\n",
       "      <th>3</th>\n",
       "      <td>17pcp155646</td>\n",
       "      <td>24.557775</td>\n",
       "      <td>5/27/2017</td>\n",
       "      <td>76</td>\n",
       "      <td>15100</td>\n",
       "      <td>100</td>\n",
       "      <td>8416</td>\n",
       "      <td>Car Rental</td>\n",
       "      <td>Corporate IT</td>\n",
       "    </tr>\n",
       "    <tr>\n",
       "      <th>4</th>\n",
       "      <td>17pcp146243</td>\n",
       "      <td>46.717275</td>\n",
       "      <td>3/21/2017</td>\n",
       "      <td>76</td>\n",
       "      <td>15100</td>\n",
       "      <td>200</td>\n",
       "      <td>8416</td>\n",
       "      <td>Car Rental</td>\n",
       "      <td>Corporate IT</td>\n",
       "    </tr>\n",
       "    <tr>\n",
       "      <th>5</th>\n",
       "      <td>17pcp152407</td>\n",
       "      <td>21.037500</td>\n",
       "      <td>2/28/2017</td>\n",
       "      <td>76</td>\n",
       "      <td>15100</td>\n",
       "      <td>110</td>\n",
       "      <td>8416</td>\n",
       "      <td>Car Rental</td>\n",
       "      <td>Corporate IT</td>\n",
       "    </tr>\n",
       "    <tr>\n",
       "      <th>6</th>\n",
       "      <td>17pcp18692</td>\n",
       "      <td>2.234650</td>\n",
       "      <td>2/24/2017</td>\n",
       "      <td>76</td>\n",
       "      <td>15100</td>\n",
       "      <td>110</td>\n",
       "      <td>8416</td>\n",
       "      <td>Car Rental</td>\n",
       "      <td>Corporate IT</td>\n",
       "    </tr>\n",
       "    <tr>\n",
       "      <th>7</th>\n",
       "      <td>17pcp174097</td>\n",
       "      <td>3.812930</td>\n",
       "      <td>1/31/2017</td>\n",
       "      <td>76</td>\n",
       "      <td>15100</td>\n",
       "      <td>110</td>\n",
       "      <td>8416</td>\n",
       "      <td>Car Rental</td>\n",
       "      <td>Corporate IT</td>\n",
       "    </tr>\n",
       "    <tr>\n",
       "      <th>8</th>\n",
       "      <td>17pcp179969</td>\n",
       "      <td>27.173437</td>\n",
       "      <td>1/7/2017</td>\n",
       "      <td>76</td>\n",
       "      <td>15100</td>\n",
       "      <td>100</td>\n",
       "      <td>8416</td>\n",
       "      <td>Car Rental</td>\n",
       "      <td>Corporate IT</td>\n",
       "    </tr>\n",
       "    <tr>\n",
       "      <th>9</th>\n",
       "      <td>17pcp173014</td>\n",
       "      <td>10.227030</td>\n",
       "      <td>1/3/2017</td>\n",
       "      <td>76</td>\n",
       "      <td>15100</td>\n",
       "      <td>100</td>\n",
       "      <td>8416</td>\n",
       "      <td>Car Rental</td>\n",
       "      <td>Corporate IT</td>\n",
       "    </tr>\n",
       "  </tbody>\n",
       "</table>\n",
       "</div>"
      ],
      "text/plain": [
       "  transactionid     amount transactiondate vendor  merchantcode   bu  account  \\\n",
       "0     17pcp8865  18.929075       7/10/2017     76         15100  100     8740   \n",
       "1    17pcp17762  53.014500       6/11/2017     76         15100  100     8740   \n",
       "2   17pcp154402  70.662625       7/29/2017     76         15100  100     8416   \n",
       "3   17pcp155646  24.557775       5/27/2017     76         15100  100     8416   \n",
       "4   17pcp146243  46.717275       3/21/2017     76         15100  200     8416   \n",
       "5   17pcp152407  21.037500       2/28/2017     76         15100  110     8416   \n",
       "6    17pcp18692   2.234650       2/24/2017     76         15100  110     8416   \n",
       "7   17pcp174097   3.812930       1/31/2017     76         15100  110     8416   \n",
       "8   17pcp179969  27.173437        1/7/2017     76         15100  100     8416   \n",
       "9   17pcp173014  10.227030        1/3/2017     76         15100  100     8416   \n",
       "\n",
       "          ExpenseType    costcenter  \n",
       "0  Building Suppliles  Corporate IT  \n",
       "1  Building Suppliles  Corporate IT  \n",
       "2          Car Rental  Corporate IT  \n",
       "3          Car Rental  Corporate IT  \n",
       "4          Car Rental  Corporate IT  \n",
       "5          Car Rental  Corporate IT  \n",
       "6          Car Rental  Corporate IT  \n",
       "7          Car Rental  Corporate IT  \n",
       "8          Car Rental  Corporate IT  \n",
       "9          Car Rental  Corporate IT  "
      ]
     },
     "execution_count": 59,
     "metadata": {},
     "output_type": "execute_result"
    }
   ],
   "source": [
    "data2017[:10]"
   ]
  },
  {
   "cell_type": "code",
   "execution_count": 19,
   "metadata": {},
   "outputs": [],
   "source": [
    "suppliers = data2017['vendor']"
   ]
  },
  {
   "cell_type": "code",
   "execution_count": 42,
   "metadata": {},
   "outputs": [
    {
     "data": {
      "text/plain": [
       "CDW Direct                11293\n",
       "OFFICE DEPOT              10891\n",
       "UBER                      10552\n",
       "Amazon AWS                 7109\n",
       "SALESFORCE.COM, INC.       5196\n",
       "Staples                    3733\n",
       "TELEPRESS                  3469\n",
       "CENTURYLINK                3417\n",
       "TARGET                     2985\n",
       "DataArt Solutions, Inc     2709\n",
       "Name: vendor, dtype: int64"
      ]
     },
     "execution_count": 42,
     "metadata": {},
     "output_type": "execute_result"
    }
   ],
   "source": [
    "top_supliers = suppliers.value_counts()\n",
    "top_supliers[:10]"
   ]
  },
  {
   "cell_type": "code",
   "execution_count": 21,
   "metadata": {},
   "outputs": [],
   "source": [
    "amounts = data2017['amount']"
   ]
  },
  {
   "cell_type": "code",
   "execution_count": 24,
   "metadata": {},
   "outputs": [
    {
     "data": {
      "text/html": [
       "<div>\n",
       "<style scoped>\n",
       "    .dataframe tbody tr th:only-of-type {\n",
       "        vertical-align: middle;\n",
       "    }\n",
       "\n",
       "    .dataframe tbody tr th {\n",
       "        vertical-align: top;\n",
       "    }\n",
       "\n",
       "    .dataframe thead th {\n",
       "        text-align: right;\n",
       "    }\n",
       "</style>\n",
       "<table border=\"1\" class=\"dataframe\">\n",
       "  <thead>\n",
       "    <tr style=\"text-align: right;\">\n",
       "      <th></th>\n",
       "      <th>vendor</th>\n",
       "      <th>amount</th>\n",
       "    </tr>\n",
       "  </thead>\n",
       "  <tbody>\n",
       "    <tr>\n",
       "      <th>0</th>\n",
       "      <td>76</td>\n",
       "      <td>18.929075</td>\n",
       "    </tr>\n",
       "    <tr>\n",
       "      <th>1</th>\n",
       "      <td>76</td>\n",
       "      <td>53.014500</td>\n",
       "    </tr>\n",
       "    <tr>\n",
       "      <th>2</th>\n",
       "      <td>76</td>\n",
       "      <td>70.662625</td>\n",
       "    </tr>\n",
       "    <tr>\n",
       "      <th>3</th>\n",
       "      <td>76</td>\n",
       "      <td>24.557775</td>\n",
       "    </tr>\n",
       "    <tr>\n",
       "      <th>4</th>\n",
       "      <td>76</td>\n",
       "      <td>46.717275</td>\n",
       "    </tr>\n",
       "    <tr>\n",
       "      <th>5</th>\n",
       "      <td>76</td>\n",
       "      <td>21.037500</td>\n",
       "    </tr>\n",
       "    <tr>\n",
       "      <th>6</th>\n",
       "      <td>76</td>\n",
       "      <td>2.234650</td>\n",
       "    </tr>\n",
       "    <tr>\n",
       "      <th>7</th>\n",
       "      <td>76</td>\n",
       "      <td>3.812930</td>\n",
       "    </tr>\n",
       "    <tr>\n",
       "      <th>8</th>\n",
       "      <td>76</td>\n",
       "      <td>27.173437</td>\n",
       "    </tr>\n",
       "    <tr>\n",
       "      <th>9</th>\n",
       "      <td>76</td>\n",
       "      <td>10.227030</td>\n",
       "    </tr>\n",
       "  </tbody>\n",
       "</table>\n",
       "</div>"
      ],
      "text/plain": [
       "  vendor     amount\n",
       "0     76  18.929075\n",
       "1     76  53.014500\n",
       "2     76  70.662625\n",
       "3     76  24.557775\n",
       "4     76  46.717275\n",
       "5     76  21.037500\n",
       "6     76   2.234650\n",
       "7     76   3.812930\n",
       "8     76  27.173437\n",
       "9     76  10.227030"
      ]
     },
     "execution_count": 24,
     "metadata": {},
     "output_type": "execute_result"
    }
   ],
   "source": [
    "supplier_spending = data2017[['vendor', 'amount']]\n",
    "supplier_spending[:10]"
   ]
  },
  {
   "cell_type": "code",
   "execution_count": 34,
   "metadata": {},
   "outputs": [
    {
     "name": "stdout",
     "output_type": "stream",
     "text": [
      "3453158.0877008\n"
     ]
    }
   ],
   "source": [
    "CDW_Direct_Spending = supplier_spending[supplier_spending['vendor'] == \"CDW Direct\"]\n",
    "CDW_Direct_Spending_amount = CDW_Direct_Spending['amount']\n",
    "CDW_Direct_Spending_amount\n",
    "print(CDW_Direct_Spending_amount.sum())"
   ]
  },
  {
   "cell_type": "code",
   "execution_count": 38,
   "metadata": {},
   "outputs": [
    {
     "name": "stdout",
     "output_type": "stream",
     "text": [
      "986288.874663\n"
     ]
    }
   ],
   "source": [
    "Office_Depot_Spending = supplier_spending[supplier_spending['vendor'] == \"OFFICE DEPOT\"]\n",
    "Office_Depot_Spending_Amount = Office_Depot_Spending['amount']\n",
    "print(Office_Depot_Spending_Amount.sum())"
   ]
  },
  {
   "cell_type": "code",
   "execution_count": 39,
   "metadata": {},
   "outputs": [
    {
     "name": "stdout",
     "output_type": "stream",
     "text": [
      "225716.076919\n"
     ]
    }
   ],
   "source": [
    "Uber_spending = supplier_spending[supplier_spending['vendor'] == \"UBER\"]\n",
    "Uber_spending_amount = Uber_spending['amount']\n",
    "print(Uber_spending_amount.sum())"
   ]
  },
  {
   "cell_type": "code",
   "execution_count": 40,
   "metadata": {},
   "outputs": [
    {
     "name": "stdout",
     "output_type": "stream",
     "text": [
      "1668552.2955445\n"
     ]
    }
   ],
   "source": [
    "Amazon_AWS_Spending = supplier_spending[supplier_spending['vendor'] == \"Amazon AWS\"]\n",
    "Amazon_AWS_Spending_amount = Amazon_AWS_Spending['amount']\n",
    "print(Amazon_AWS_Spending_amount.sum())"
   ]
  },
  {
   "cell_type": "code",
   "execution_count": 43,
   "metadata": {},
   "outputs": [
    {
     "name": "stdout",
     "output_type": "stream",
     "text": [
      "1240089.3623755001\n"
     ]
    }
   ],
   "source": [
    "SalesForce_Spending = supplier_spending[supplier_spending['vendor'] == \"SALESFORCE.COM, INC.\"]\n",
    "SalesForce_Spending_amount = SalesForce_Spending['amount']\n",
    "print(SalesForce_Spending_amount.sum())"
   ]
  },
  {
   "cell_type": "code",
   "execution_count": 47,
   "metadata": {},
   "outputs": [
    {
     "name": "stdout",
     "output_type": "stream",
     "text": [
      "222747.403527\n"
     ]
    }
   ],
   "source": [
    "Staples_Spending = supplier_spending[supplier_spending['vendor'] == \"Staples\"]\n",
    "Staples_Spending_amount = Staples_Spending['amount']\n",
    "print(Staples_Spending_amount.sum())"
   ]
  },
  {
   "cell_type": "code",
   "execution_count": 49,
   "metadata": {},
   "outputs": [
    {
     "name": "stdout",
     "output_type": "stream",
     "text": [
      "302311.4968345\n"
     ]
    }
   ],
   "source": [
    "Telepress_Spending = supplier_spending[supplier_spending['vendor'] == \"TELEPRESS\"]\n",
    "Telepress_Spending_amount = Telepress_Spending['amount']\n",
    "print(Telepress_Spending_amount.sum())"
   ]
  },
  {
   "cell_type": "code",
   "execution_count": 52,
   "metadata": {},
   "outputs": [
    {
     "name": "stdout",
     "output_type": "stream",
     "text": [
      "1796468.6153715001\n"
     ]
    }
   ],
   "source": [
    "CenturyLink_Spending = supplier_spending[supplier_spending['vendor'] == \"CENTURYLINK\"]\n",
    "CenturyLink_Spending_amount = CenturyLink_Spending['amount']\n",
    "print(CenturyLink_Spending_amount.sum())"
   ]
  },
  {
   "cell_type": "code",
   "execution_count": 53,
   "metadata": {},
   "outputs": [
    {
     "name": "stdout",
     "output_type": "stream",
     "text": [
      "101571.26931599999\n"
     ]
    }
   ],
   "source": [
    "Target_Spending = supplier_spending[supplier_spending['vendor'] == \"TARGET\"]\n",
    "Target_Spending_amount = Target_Spending['amount']\n",
    "print(Target_Spending_amount.sum())"
   ]
  },
  {
   "cell_type": "code",
   "execution_count": 55,
   "metadata": {},
   "outputs": [
    {
     "name": "stdout",
     "output_type": "stream",
     "text": [
      "1270111.8704175\n"
     ]
    }
   ],
   "source": [
    "DataArt_Solutions_Spending = supplier_spending[supplier_spending['vendor'] == \"DataArt Solutions, Inc\"]\n",
    "DataArt_Solutions_amount = DataArt_Solutions_Spending['amount']\n",
    "print(DataArt_Solutions_amount.sum())"
   ]
  }
 ],
 "metadata": {
  "kernelspec": {
   "display_name": "Python 3",
   "language": "python",
   "name": "python3"
  },
  "language_info": {
   "codemirror_mode": {
    "name": "ipython",
    "version": 3
   },
   "file_extension": ".py",
   "mimetype": "text/x-python",
   "name": "python",
   "nbconvert_exporter": "python",
   "pygments_lexer": "ipython3",
   "version": "3.6.4"
  }
 },
 "nbformat": 4,
 "nbformat_minor": 2
}
